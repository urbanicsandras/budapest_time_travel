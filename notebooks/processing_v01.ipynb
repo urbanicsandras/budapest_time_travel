{
 "cells": [
  {
   "cell_type": "code",
   "execution_count": 1,
   "id": "aa2a2f4e",
   "metadata": {},
   "outputs": [],
   "source": [
    "import os\n",
    "import sys\n",
    "\n",
    "# Set path - adjust according to your new package location\n",
    "project_root = os.path.abspath(os.path.join(\"..\", \"src\"))\n",
    "if project_root not in sys.path:\n",
    "    sys.path.append(project_root)"
   ]
  },
  {
   "cell_type": "code",
   "execution_count": 8,
   "id": "a4e4d0c9",
   "metadata": {},
   "outputs": [
    {
     "name": "stdout",
     "output_type": "stream",
     "text": [
      "Processing 22 date(s): 20131010 to 20131031\n",
      "Processing 20131010 (1/22)... ✗ ([Errno 2] No such file or directory: '../data/raw/...)\n",
      "Processing 20131011 (2/22)... ✗ ([Errno 2] No such file or directory: '../data/raw/...)\n",
      "Processing 20131012 (3/22)... ✗ ([Errno 2] No such file or directory: '../data/raw/...)\n",
      "Processing 20131013 (4/22)... ✗ ([Errno 2] No such file or directory: '../data/raw/...)\n",
      "Processing 20131014 (5/22)... ✗ ([Errno 2] No such file or directory: '../data/raw/...)\n",
      "Processing 20131015 (6/22)... ✗ ([Errno 2] No such file or directory: '../data/raw/...)\n",
      "Processing 20131016 (7/22)... ✗ ([Errno 2] No such file or directory: '../data/raw/...)\n",
      "Processing 20131017 (8/22)... ✗ ([Errno 2] No such file or directory: '../data/raw/...)\n",
      "Processing 20131018 (9/22)... ✓\n",
      "Processing 20131019 (10/22)... ✗ ([Errno 2] No such file or directory: '../data/raw/...)\n",
      "Processing 20131020 (11/22)... ✗ ([Errno 2] No such file or directory: '../data/raw/...)\n",
      "Processing 20131021 (12/22)... ✓\n",
      "Processing 20131022 (13/22)... ✗ ([Errno 2] No such file or directory: '../data/raw/...)\n",
      "Processing 20131023 (14/22)... ✗ ([Errno 2] No such file or directory: '../data/raw/...)\n",
      "Processing 20131024 (15/22)... ✗ ([Errno 2] No such file or directory: '../data/raw/...)\n",
      "Processing 20131025 (16/22)... ✓\n",
      "Processing 20131026 (17/22)... ✗ ([Errno 2] No such file or directory: '../data/raw/...)\n",
      "Processing 20131027 (18/22)... ✗ ([Errno 2] No such file or directory: '../data/raw/...)\n",
      "Processing 20131028 (19/22)... ✗ ([Errno 2] No such file or directory: '../data/raw/...)\n",
      "Processing 20131029 (20/22)... ✗ ([Errno 2] No such file or directory: '../data/raw/...)\n",
      "Processing 20131030 (21/22)... ✗ ([Errno 2] No such file or directory: '../data/raw/...)\n",
      "Processing 20131031 (22/22)... ✗ ([Errno 2] No such file or directory: '../data/raw/...)\n"
     ]
    }
   ],
   "source": [
    "from data_processor import FlexibleDateProcessor\n",
    "processor = FlexibleDateProcessor('../data/processed/')\n",
    "\n",
    "# Process a specific month\n",
    "processing_result = processor.process_dates({'start': '20131010', 'end': '20131031'}, progress=\"compact\")"
   ]
  },
  {
   "cell_type": "code",
   "execution_count": null,
   "id": "f964c689",
   "metadata": {},
   "outputs": [],
   "source": []
  }
 ],
 "metadata": {
  "kernelspec": {
   "display_name": "budapest_tt",
   "language": "python",
   "name": "python3"
  },
  "language_info": {
   "codemirror_mode": {
    "name": "ipython",
    "version": 3
   },
   "file_extension": ".py",
   "mimetype": "text/x-python",
   "name": "python",
   "nbconvert_exporter": "python",
   "pygments_lexer": "ipython3",
   "version": "3.13.2"
  }
 },
 "nbformat": 4,
 "nbformat_minor": 5
}
