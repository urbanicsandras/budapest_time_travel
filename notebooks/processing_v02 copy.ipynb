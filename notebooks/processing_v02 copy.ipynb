{
 "cells": [
  {
   "cell_type": "code",
   "execution_count": 3,
   "id": "aa2a2f4e",
   "metadata": {},
   "outputs": [],
   "source": [
    "import os\n",
    "import sys\n",
    "\n",
    "# Set path - adjust according to your new package location\n",
    "project_root = os.path.abspath(os.path.join(\"..\", \"src\"))\n",
    "if project_root not in sys.path:\n",
    "    sys.path.append(project_root)"
   ]
  },
  {
   "cell_type": "code",
   "execution_count": 4,
   "id": "a4e4d0c9",
   "metadata": {},
   "outputs": [
    {
     "name": "stdout",
     "output_type": "stream",
     "text": [
      "Processing 440 date(s): 20131018 to 20141231\n",
      "Processing 20131018 (1/440)... ✓\n",
      "Processing 20131019 (2/440)... ✗ (No data found for date 20131019. Checked: ../data/...)\n",
      "Processing 20131020 (3/440)... ✗ (No data found for date 20131020. Checked: ../data/...)\n",
      "Processing 20131021 (4/440)... "
     ]
    },
    {
     "ename": "KeyboardInterrupt",
     "evalue": "",
     "output_type": "error",
     "traceback": [
      "\u001b[31m---------------------------------------------------------------------------\u001b[39m",
      "\u001b[31mKeyboardInterrupt\u001b[39m                         Traceback (most recent call last)",
      "\u001b[36mCell\u001b[39m\u001b[36m \u001b[39m\u001b[32mIn[4]\u001b[39m\u001b[32m, line 5\u001b[39m\n\u001b[32m      2\u001b[39m processor = FlexibleDateProcessor(\u001b[33m'\u001b[39m\u001b[33m../data/processed/\u001b[39m\u001b[33m'\u001b[39m)\n\u001b[32m      4\u001b[39m \u001b[38;5;66;03m# Process a specific month\u001b[39;00m\n\u001b[32m----> \u001b[39m\u001b[32m5\u001b[39m processing_result = processor.process_dates({\u001b[33m'\u001b[39m\u001b[33mstart\u001b[39m\u001b[33m'\u001b[39m: \u001b[33m'\u001b[39m\u001b[33m20131018\u001b[39m\u001b[33m'\u001b[39m, \u001b[33m'\u001b[39m\u001b[33mend\u001b[39m\u001b[33m'\u001b[39m: \u001b[33m'\u001b[39m\u001b[33m20141231\u001b[39m\u001b[33m'\u001b[39m}, progress=\u001b[33m\"\u001b[39m\u001b[33mcompact\u001b[39m\u001b[33m\"\u001b[39m)\n",
      "\u001b[36mFile \u001b[39m\u001b[32mc:\\Users\\User\\Documents\\Projects\\budapest_time_travel\\src\\data_processor\\flexible_date_processor.py:55\u001b[39m, in \u001b[36mFlexibleDateProcessor.process_dates\u001b[39m\u001b[34m(self, dates, save_data, progress, return_data)\u001b[39m\n\u001b[32m     52\u001b[39m \u001b[38;5;28;01mif\u001b[39;00m progress \u001b[38;5;129;01mnot\u001b[39;00m \u001b[38;5;129;01min\u001b[39;00m [\u001b[38;5;28;01mFalse\u001b[39;00m, \u001b[33m'\u001b[39m\u001b[33mnone\u001b[39m\u001b[33m'\u001b[39m]:\n\u001b[32m     53\u001b[39m     \u001b[38;5;28mprint\u001b[39m(\u001b[33mf\u001b[39m\u001b[33m\"\u001b[39m\u001b[33mProcessing \u001b[39m\u001b[38;5;132;01m{\u001b[39;00m\u001b[38;5;28mlen\u001b[39m(dates_to_process)\u001b[38;5;132;01m}\u001b[39;00m\u001b[33m date(s): \u001b[39m\u001b[38;5;132;01m{\u001b[39;00mdates_to_process[\u001b[32m0\u001b[39m]\u001b[38;5;132;01m}\u001b[39;00m\u001b[33m to \u001b[39m\u001b[38;5;132;01m{\u001b[39;00mdates_to_process[-\u001b[32m1\u001b[39m]\u001b[38;5;132;01m}\u001b[39;00m\u001b[33m\"\u001b[39m)\n\u001b[32m---> \u001b[39m\u001b[32m55\u001b[39m \u001b[38;5;28;01mreturn\u001b[39;00m \u001b[38;5;28mself\u001b[39m._process_date_list(dates_to_process, save_data, progress, return_data)\n",
      "\u001b[36mFile \u001b[39m\u001b[32mc:\\Users\\User\\Documents\\Projects\\budapest_time_travel\\src\\data_processor\\flexible_date_processor.py:163\u001b[39m, in \u001b[36mFlexibleDateProcessor._process_date_list\u001b[39m\u001b[34m(self, dates, save_data, progress, return_data)\u001b[39m\n\u001b[32m    159\u001b[39m \u001b[38;5;28;01mtry\u001b[39;00m:\n\u001b[32m    160\u001b[39m     \u001b[38;5;66;03m# Control internal processor progress based on our progress setting\u001b[39;00m\n\u001b[32m    161\u001b[39m     show_internal_progress = progress \u001b[38;5;129;01min\u001b[39;00m [\u001b[38;5;28;01mTrue\u001b[39;00m, \u001b[33m'\u001b[39m\u001b[33mfull\u001b[39m\u001b[33m'\u001b[39m]\n\u001b[32m--> \u001b[39m\u001b[32m163\u001b[39m     result = \u001b[38;5;28mself\u001b[39m.processor.process_date(date, save_data=save_data, return_data=return_data, \n\u001b[32m    164\u001b[39m                                        show_progress=show_internal_progress)\n\u001b[32m    166\u001b[39m     results[date] = {\n\u001b[32m    167\u001b[39m         \u001b[33m'\u001b[39m\u001b[33mstatus\u001b[39m\u001b[33m'\u001b[39m: \u001b[33m'\u001b[39m\u001b[33msuccess\u001b[39m\u001b[33m'\u001b[39m,\n\u001b[32m    168\u001b[39m         \u001b[33m'\u001b[39m\u001b[33mdata\u001b[39m\u001b[33m'\u001b[39m: result \u001b[38;5;28;01mif\u001b[39;00m return_data \u001b[38;5;28;01melse\u001b[39;00m \u001b[38;5;28;01mNone\u001b[39;00m,\n\u001b[32m    169\u001b[39m         \u001b[33m'\u001b[39m\u001b[33merror\u001b[39m\u001b[33m'\u001b[39m: \u001b[38;5;28;01mNone\u001b[39;00m\n\u001b[32m    170\u001b[39m     }\n\u001b[32m    172\u001b[39m     \u001b[38;5;28;01mif\u001b[39;00m show_details:\n",
      "\u001b[36mFile \u001b[39m\u001b[32mc:\\Users\\User\\Documents\\Projects\\budapest_time_travel\\src\\data_processor\\pipeline.py:63\u001b[39m, in \u001b[36mTransitDataProcessor.process_date\u001b[39m\u001b[34m(self, date, save_data, return_data, show_progress)\u001b[39m\n\u001b[32m     61\u001b[39m \u001b[38;5;28;01mif\u001b[39;00m show_progress:\n\u001b[32m     62\u001b[39m     \u001b[38;5;28mprint\u001b[39m(\u001b[33m\"\u001b[39m\u001b[33m3. Building service date mappings...\u001b[39m\u001b[33m\"\u001b[39m)\n\u001b[32m---> \u001b[39m\u001b[32m63\u001b[39m trip_dates, trip_first_date = build_service_date_mappings(trips_txt, calendar_txt)\n\u001b[32m     65\u001b[39m \u001b[38;5;66;03m# Step 3: Process routes\u001b[39;00m\n\u001b[32m     66\u001b[39m \u001b[38;5;28;01mif\u001b[39;00m show_progress:\n",
      "\u001b[36mFile \u001b[39m\u001b[32mc:\\Users\\User\\Documents\\Projects\\budapest_time_travel\\src\\data_processor\\date_utils.py:72\u001b[39m, in \u001b[36mbuild_service_date_mappings\u001b[39m\u001b[34m(trips_df, calendar_df)\u001b[39m\n\u001b[32m     59\u001b[39m \u001b[38;5;250m\u001b[39m\u001b[33;03m\"\"\"\u001b[39;00m\n\u001b[32m     60\u001b[39m \u001b[33;03mBuild mappings from service IDs to their active dates and first dates.\u001b[39;00m\n\u001b[32m     61\u001b[39m \u001b[33;03m\u001b[39;00m\n\u001b[32m   (...)\u001b[39m\u001b[32m     67\u001b[39m \u001b[33;03m    Tuple of (service_dates_dict, service_first_date_dict)\u001b[39;00m\n\u001b[32m     68\u001b[39m \u001b[33;03m\"\"\"\u001b[39;00m\n\u001b[32m     69\u001b[39m unique_services = trips_df[\u001b[33m\"\u001b[39m\u001b[33mservice_id\u001b[39m\u001b[33m\"\u001b[39m].unique()\n\u001b[32m     71\u001b[39m trip_dates = {\n\u001b[32m---> \u001b[39m\u001b[32m72\u001b[39m     service: get_active_dates(calendar_df, service)\n\u001b[32m     73\u001b[39m     \u001b[38;5;28;01mfor\u001b[39;00m service \u001b[38;5;129;01min\u001b[39;00m unique_services\n\u001b[32m     74\u001b[39m }\n\u001b[32m     76\u001b[39m trip_first_date = {\n\u001b[32m     77\u001b[39m     service: dates[\u001b[32m0\u001b[39m] \u001b[38;5;28;01mif\u001b[39;00m dates \u001b[38;5;28;01melse\u001b[39;00m \u001b[38;5;28;01mNone\u001b[39;00m\n\u001b[32m     78\u001b[39m     \u001b[38;5;28;01mfor\u001b[39;00m service, dates \u001b[38;5;129;01min\u001b[39;00m trip_dates.items()\n\u001b[32m     79\u001b[39m }\n\u001b[32m     81\u001b[39m \u001b[38;5;28;01mreturn\u001b[39;00m trip_dates, trip_first_date\n",
      "\u001b[36mFile \u001b[39m\u001b[32mc:\\Users\\User\\Documents\\Projects\\budapest_time_travel\\src\\data_processor\\date_utils.py:24\u001b[39m, in \u001b[36mget_active_dates\u001b[39m\u001b[34m(calendar_df, service_id, to_string, date_format)\u001b[39m\n\u001b[32m     11\u001b[39m \u001b[38;5;250m\u001b[39m\u001b[33;03m\"\"\"\u001b[39;00m\n\u001b[32m     12\u001b[39m \u001b[33;03mGet all active dates for a service.\u001b[39;00m\n\u001b[32m     13\u001b[39m \u001b[33;03m\u001b[39;00m\n\u001b[32m   (...)\u001b[39m\u001b[32m     21\u001b[39m \u001b[33;03m    List of all active dates for the service\u001b[39;00m\n\u001b[32m     22\u001b[39m \u001b[33;03m\"\"\"\u001b[39;00m\n\u001b[32m     23\u001b[39m \u001b[38;5;66;03m# Filter for the specific service_id\u001b[39;00m\n\u001b[32m---> \u001b[39m\u001b[32m24\u001b[39m service_row = calendar_df[calendar_df[\u001b[33m'\u001b[39m\u001b[33mservice_id\u001b[39m\u001b[33m'\u001b[39m] == service_id]\n\u001b[32m     26\u001b[39m \u001b[38;5;28;01mif\u001b[39;00m service_row.empty:\n\u001b[32m     27\u001b[39m     \u001b[38;5;28mprint\u001b[39m(\u001b[33mf\u001b[39m\u001b[33m\"\u001b[39m\u001b[33mService ID \u001b[39m\u001b[33m'\u001b[39m\u001b[38;5;132;01m{\u001b[39;00mservice_id\u001b[38;5;132;01m}\u001b[39;00m\u001b[33m'\u001b[39m\u001b[33m not found\u001b[39m\u001b[33m\"\u001b[39m)\n",
      "\u001b[36mFile \u001b[39m\u001b[32mc:\\Users\\User\\miniconda3\\envs\\budapest_tt\\Lib\\site-packages\\pandas\\core\\frame.py:4093\u001b[39m, in \u001b[36mDataFrame.__getitem__\u001b[39m\u001b[34m(self, key)\u001b[39m\n\u001b[32m   4091\u001b[39m \u001b[38;5;66;03m# Do we have a (boolean) 1d indexer?\u001b[39;00m\n\u001b[32m   4092\u001b[39m \u001b[38;5;28;01mif\u001b[39;00m com.is_bool_indexer(key):\n\u001b[32m-> \u001b[39m\u001b[32m4093\u001b[39m     \u001b[38;5;28;01mreturn\u001b[39;00m \u001b[38;5;28mself\u001b[39m._getitem_bool_array(key)\n\u001b[32m   4095\u001b[39m \u001b[38;5;66;03m# We are left with two options: a single key, and a collection of keys,\u001b[39;00m\n\u001b[32m   4096\u001b[39m \u001b[38;5;66;03m# We interpret tuples as collections only for non-MultiIndex\u001b[39;00m\n\u001b[32m   4097\u001b[39m is_single_key = \u001b[38;5;28misinstance\u001b[39m(key, \u001b[38;5;28mtuple\u001b[39m) \u001b[38;5;129;01mor\u001b[39;00m \u001b[38;5;129;01mnot\u001b[39;00m is_list_like(key)\n",
      "\u001b[36mFile \u001b[39m\u001b[32mc:\\Users\\User\\miniconda3\\envs\\budapest_tt\\Lib\\site-packages\\pandas\\core\\frame.py:4149\u001b[39m, in \u001b[36mDataFrame._getitem_bool_array\u001b[39m\u001b[34m(self, key)\u001b[39m\n\u001b[32m   4143\u001b[39m     \u001b[38;5;28;01mraise\u001b[39;00m \u001b[38;5;167;01mValueError\u001b[39;00m(\n\u001b[32m   4144\u001b[39m         \u001b[33mf\u001b[39m\u001b[33m\"\u001b[39m\u001b[33mItem wrong length \u001b[39m\u001b[38;5;132;01m{\u001b[39;00m\u001b[38;5;28mlen\u001b[39m(key)\u001b[38;5;132;01m}\u001b[39;00m\u001b[33m instead of \u001b[39m\u001b[38;5;132;01m{\u001b[39;00m\u001b[38;5;28mlen\u001b[39m(\u001b[38;5;28mself\u001b[39m.index)\u001b[38;5;132;01m}\u001b[39;00m\u001b[33m.\u001b[39m\u001b[33m\"\u001b[39m\n\u001b[32m   4145\u001b[39m     )\n\u001b[32m   4147\u001b[39m \u001b[38;5;66;03m# check_bool_indexer will throw exception if Series key cannot\u001b[39;00m\n\u001b[32m   4148\u001b[39m \u001b[38;5;66;03m# be reindexed to match DataFrame rows\u001b[39;00m\n\u001b[32m-> \u001b[39m\u001b[32m4149\u001b[39m key = check_bool_indexer(\u001b[38;5;28mself\u001b[39m.index, key)\n\u001b[32m   4151\u001b[39m \u001b[38;5;28;01mif\u001b[39;00m key.all():\n\u001b[32m   4152\u001b[39m     \u001b[38;5;28;01mreturn\u001b[39;00m \u001b[38;5;28mself\u001b[39m.copy(deep=\u001b[38;5;28;01mNone\u001b[39;00m)\n",
      "\u001b[36mFile \u001b[39m\u001b[32mc:\\Users\\User\\miniconda3\\envs\\budapest_tt\\Lib\\site-packages\\pandas\\core\\indexing.py:2674\u001b[39m, in \u001b[36mcheck_bool_indexer\u001b[39m\u001b[34m(index, key)\u001b[39m\n\u001b[32m   2671\u001b[39m     \u001b[38;5;28;01mif\u001b[39;00m \u001b[38;5;129;01mnot\u001b[39;00m \u001b[38;5;28misinstance\u001b[39m(result.dtype, ExtensionDtype):\n\u001b[32m   2672\u001b[39m         \u001b[38;5;28;01mreturn\u001b[39;00m result.astype(\u001b[38;5;28mbool\u001b[39m)._values\n\u001b[32m-> \u001b[39m\u001b[32m2674\u001b[39m \u001b[38;5;28;01mif\u001b[39;00m is_object_dtype(key):\n\u001b[32m   2675\u001b[39m     \u001b[38;5;66;03m# key might be object-dtype bool, check_array_indexer needs bool array\u001b[39;00m\n\u001b[32m   2676\u001b[39m     result = np.asarray(result, dtype=\u001b[38;5;28mbool\u001b[39m)\n\u001b[32m   2677\u001b[39m \u001b[38;5;28;01melif\u001b[39;00m \u001b[38;5;129;01mnot\u001b[39;00m is_array_like(result):\n\u001b[32m   2678\u001b[39m     \u001b[38;5;66;03m# GH 33924\u001b[39;00m\n\u001b[32m   2679\u001b[39m     \u001b[38;5;66;03m# key may contain nan elements, check_array_indexer needs bool array\u001b[39;00m\n",
      "\u001b[36mFile \u001b[39m\u001b[32mc:\\Users\\User\\miniconda3\\envs\\budapest_tt\\Lib\\site-packages\\pandas\\core\\dtypes\\common.py:165\u001b[39m, in \u001b[36mis_object_dtype\u001b[39m\u001b[34m(arr_or_dtype)\u001b[39m\n\u001b[32m    137\u001b[39m \u001b[38;5;28;01mdef\u001b[39;00m\u001b[38;5;250m \u001b[39m\u001b[34mis_object_dtype\u001b[39m(arr_or_dtype) -> \u001b[38;5;28mbool\u001b[39m:\n\u001b[32m    138\u001b[39m \u001b[38;5;250m    \u001b[39m\u001b[33;03m\"\"\"\u001b[39;00m\n\u001b[32m    139\u001b[39m \u001b[33;03m    Check whether an array-like or dtype is of the object dtype.\u001b[39;00m\n\u001b[32m    140\u001b[39m \n\u001b[32m   (...)\u001b[39m\u001b[32m    163\u001b[39m \u001b[33;03m    False\u001b[39;00m\n\u001b[32m    164\u001b[39m \u001b[33;03m    \"\"\"\u001b[39;00m\n\u001b[32m--> \u001b[39m\u001b[32m165\u001b[39m     \u001b[38;5;28;01mreturn\u001b[39;00m _is_dtype_type(arr_or_dtype, classes(np.object_))\n",
      "\u001b[36mFile \u001b[39m\u001b[32mc:\\Users\\User\\miniconda3\\envs\\budapest_tt\\Lib\\site-packages\\pandas\\core\\dtypes\\common.py:1461\u001b[39m, in \u001b[36m_is_dtype_type\u001b[39m\u001b[34m(arr_or_dtype, condition)\u001b[39m\n\u001b[32m   1459\u001b[39m \u001b[38;5;66;03m# if we have an array-like\u001b[39;00m\n\u001b[32m   1460\u001b[39m \u001b[38;5;28;01mif\u001b[39;00m \u001b[38;5;28mhasattr\u001b[39m(arr_or_dtype, \u001b[33m\"\u001b[39m\u001b[33mdtype\u001b[39m\u001b[33m\"\u001b[39m):\n\u001b[32m-> \u001b[39m\u001b[32m1461\u001b[39m     arr_or_dtype = arr_or_dtype.dtype\n\u001b[32m   1463\u001b[39m \u001b[38;5;66;03m# we are not possibly a dtype\u001b[39;00m\n\u001b[32m   1464\u001b[39m \u001b[38;5;28;01melif\u001b[39;00m is_list_like(arr_or_dtype):\n",
      "\u001b[36mFile \u001b[39m\u001b[32mc:\\Users\\User\\miniconda3\\envs\\budapest_tt\\Lib\\site-packages\\pandas\\core\\series.py:707\u001b[39m, in \u001b[36mSeries.dtype\u001b[39m\u001b[34m(self)\u001b[39m\n\u001b[32m    704\u001b[39m     \u001b[38;5;28;01mreturn\u001b[39;00m \u001b[38;5;28mself\u001b[39m._mgr._can_hold_na\n\u001b[32m    706\u001b[39m \u001b[38;5;66;03m# ndarray compatibility\u001b[39;00m\n\u001b[32m--> \u001b[39m\u001b[32m707\u001b[39m \u001b[38;5;129m@property\u001b[39m\n\u001b[32m    708\u001b[39m \u001b[38;5;28;01mdef\u001b[39;00m\u001b[38;5;250m \u001b[39m\u001b[34mdtype\u001b[39m(\u001b[38;5;28mself\u001b[39m) -> DtypeObj:\n\u001b[32m    709\u001b[39m \u001b[38;5;250m    \u001b[39m\u001b[33;03m\"\"\"\u001b[39;00m\n\u001b[32m    710\u001b[39m \u001b[33;03m    Return the dtype object of the underlying data.\u001b[39;00m\n\u001b[32m    711\u001b[39m \n\u001b[32m   (...)\u001b[39m\u001b[32m    716\u001b[39m \u001b[33;03m    dtype('int64')\u001b[39;00m\n\u001b[32m    717\u001b[39m \u001b[33;03m    \"\"\"\u001b[39;00m\n\u001b[32m    718\u001b[39m     \u001b[38;5;28;01mreturn\u001b[39;00m \u001b[38;5;28mself\u001b[39m._mgr.dtype\n",
      "\u001b[31mKeyboardInterrupt\u001b[39m: "
     ]
    }
   ],
   "source": [
    "from data_processor import FlexibleDateProcessor\n",
    "processor = FlexibleDateProcessor('../data/processed/')\n",
    "\n",
    "# Process a specific month\n",
    "processing_result = processor.process_dates({'start': '20131018', 'end': '20141231'}, progress=\"compact\")"
   ]
  },
  {
   "cell_type": "code",
   "execution_count": null,
   "id": "f964c689",
   "metadata": {},
   "outputs": [],
   "source": []
  }
 ],
 "metadata": {
  "kernelspec": {
   "display_name": "budapest_tt",
   "language": "python",
   "name": "python3"
  },
  "language_info": {
   "codemirror_mode": {
    "name": "ipython",
    "version": 3
   },
   "file_extension": ".py",
   "mimetype": "text/x-python",
   "name": "python",
   "nbconvert_exporter": "python",
   "pygments_lexer": "ipython3",
   "version": "3.13.2"
  }
 },
 "nbformat": 4,
 "nbformat_minor": 5
}
