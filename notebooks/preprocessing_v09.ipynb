{
 "cells": [
  {
   "cell_type": "markdown",
   "id": "77cfd0f3",
   "metadata": {},
   "source": [
    "# Imports"
   ]
  },
  {
   "cell_type": "code",
   "execution_count": null,
   "id": "86d2908d",
   "metadata": {},
   "outputs": [],
   "source": [
    "import pandas as pd\n",
    "import numpy as np\n",
    "import os\n",
    "import sys\n",
    "\n",
    "# Set path\n",
    "project_root = os.path.abspath(os.path.join(\"..\", \"src\"))\n",
    "if project_root not in sys.path:\n",
    "    sys.path.append(project_root)\n",
    "\n",
    "from data_processing import data_updater_v01 as du"
   ]
  },
  {
   "cell_type": "code",
   "execution_count": 2,
   "id": "dd042332",
   "metadata": {},
   "outputs": [],
   "source": [
    "date = '20131018'\n",
    "routes_txt, trips_txt, shapes_txt, calendar_txt, calendar_dates_txt = du.load_txt_data(date)"
   ]
  },
  {
   "cell_type": "code",
   "execution_count": 3,
   "id": "afc566d2",
   "metadata": {},
   "outputs": [],
   "source": [
    "data_folder = '../data/processed/'\n",
    "shapes_df, routes_df, route_versions_df, shape_variants_df, shape_variant_activations_df, temporary_changes_df = du.load_df_data(data_folder)"
   ]
  },
  {
   "cell_type": "code",
   "execution_count": 4,
   "id": "bb69a35c",
   "metadata": {},
   "outputs": [],
   "source": [
    "trips_df = trips_txt.copy()\n",
    "calendar_df = calendar_txt.copy()\n",
    "calendar_dates_df = calendar_dates_txt.copy()"
   ]
  },
  {
   "cell_type": "code",
   "execution_count": 5,
   "id": "7dce1e7f",
   "metadata": {},
   "outputs": [],
   "source": [
    "unique_services = trips_df[\"service_id\"].unique()\n",
    "trip_dates = {\n",
    "    service: du.get_active_dates(calendar_df, service)\n",
    "    for service in unique_services\n",
    "}\n",
    "trip_first_date = {\n",
    "    service: dates[0] if dates else None\n",
    "    for service, dates in trip_dates.items()\n",
    "}"
   ]
  },
  {
   "cell_type": "code",
   "execution_count": 6,
   "id": "08b16528",
   "metadata": {},
   "outputs": [],
   "source": [
    "latest_routes_df = du.trips2latest_routes(trips_df, trip_first_date, routes_txt)"
   ]
  },
  {
   "cell_type": "code",
   "execution_count": 7,
   "id": "02d7da5a",
   "metadata": {},
   "outputs": [
    {
     "name": "stdout",
     "output_type": "stream",
     "text": [
      "No duplicate route_id found in routes_df.\n",
      "routes_df saved to ../data/processed/routes.csv\n"
     ]
    }
   ],
   "source": [
    "updated_routes_df = du.update_routes_df(routes_df, latest_routes_df)\n",
    "du.save_routes(updated_routes_df, data_folder)"
   ]
  },
  {
   "cell_type": "code",
   "execution_count": 8,
   "id": "565297c5",
   "metadata": {},
   "outputs": [
    {
     "name": "stdout",
     "output_type": "stream",
     "text": [
      "routes_df saved to ../data/processed/route_versions.csv\n"
     ]
    }
   ],
   "source": [
    "extended_route_versions_df = du.update_route_versions(route_versions_df, latest_routes_df, date)\n",
    "du.save_route_versions(extended_route_versions_df, data_folder)\n",
    "#extended_route_versions_df"
   ]
  },
  {
   "cell_type": "code",
   "execution_count": 9,
   "id": "1ac678b9",
   "metadata": {},
   "outputs": [],
   "source": [
    "df_noexceptions = du.get_df_with_noexception(trip_dates, trips_df)\n",
    "#df_noexceptions"
   ]
  },
  {
   "cell_type": "code",
   "execution_count": 10,
   "id": "ac77889b",
   "metadata": {},
   "outputs": [],
   "source": [
    "df_exceptions = du.get_df_with_exception(calendar_dates_df, trips_df)\n",
    "#df_exceptions"
   ]
  },
  {
   "cell_type": "code",
   "execution_count": 11,
   "id": "565faabd",
   "metadata": {},
   "outputs": [
    {
     "name": "stdout",
     "output_type": "stream",
     "text": [
      "7629 duplikált sort eltávolítottunk, ahol csak az exception_type tért el (NaN vs nem-NaN).\n"
     ]
    }
   ],
   "source": [
    "return_df = du.get_extended4shape_variants(extended_route_versions_df, df_noexceptions, df_exceptions)"
   ]
  },
  {
   "cell_type": "code",
   "execution_count": 12,
   "id": "7d247b1c",
   "metadata": {},
   "outputs": [
    {
     "name": "stdout",
     "output_type": "stream",
     "text": [
      "Updated shape_variants_df:\n",
      "Shape: (1151, 6)\n",
      "\n",
      "Updated shape_variant_activations_df:\n",
      "Shape: (38754, 3)\n",
      "\n",
      "Summary:\n",
      "Total unique shape variants: 1151\n",
      "Total shape variant activations: 38754\n",
      "No new variants added\n",
      "No new activations added\n"
     ]
    }
   ],
   "source": [
    "shape_variants_df, shape_variant_activations_df = du.update_shape_variants_and_activations(return_df, shape_variants_df, shape_variant_activations_df)"
   ]
  },
  {
   "cell_type": "code",
   "execution_count": 13,
   "id": "661c267b",
   "metadata": {},
   "outputs": [
    {
     "name": "stdout",
     "output_type": "stream",
     "text": [
      "shape_variants_df saved to ../data/processed/shape_variants.csv\n",
      "shape_variant_activations_df saved to ../data/processed/shape_variant_activations.csv\n"
     ]
    }
   ],
   "source": [
    "du.save_shape_variants_df(shape_variants_df, data_folder)\n",
    "du.save_shape_variant_activations_df(shape_variant_activations_df, data_folder)"
   ]
  },
  {
   "cell_type": "code",
   "execution_count": null,
   "id": "3fbc3cd6",
   "metadata": {},
   "outputs": [],
   "source": []
  }
 ],
 "metadata": {
  "kernelspec": {
   "display_name": "budapest_tt",
   "language": "python",
   "name": "python3"
  },
  "language_info": {
   "codemirror_mode": {
    "name": "ipython",
    "version": 3
   },
   "file_extension": ".py",
   "mimetype": "text/x-python",
   "name": "python",
   "nbconvert_exporter": "python",
   "pygments_lexer": "ipython3",
   "version": "3.13.2"
  }
 },
 "nbformat": 4,
 "nbformat_minor": 5
}
