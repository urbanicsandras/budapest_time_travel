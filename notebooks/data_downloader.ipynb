{
 "cells": [
  {
   "cell_type": "code",
   "execution_count": null,
   "id": "afad843e",
   "metadata": {},
   "outputs": [],
   "source": []
  },
  {
   "cell_type": "code",
   "execution_count": null,
   "id": "d787e107",
   "metadata": {},
   "outputs": [],
   "source": [
    "# Change the starting page\n",
    "downloader = TransitFeedDownloader(\"https://transitfeeds.com/p/bkk/42\")\n",
    "\n",
    "# Change output directory\n",
    "successful, failed, skipped = downloader.download_feeds(resolved_feeds, \"my_custom_folder\")\n",
    "\n",
    "# Change master zip name\n",
    "downloader.create_master_zip(\"my_custom_folder\", \"my_feeds.zip\")"
   ]
  }
 ],
 "metadata": {
  "language_info": {
   "name": "python"
  }
 },
 "nbformat": 4,
 "nbformat_minor": 5
}
