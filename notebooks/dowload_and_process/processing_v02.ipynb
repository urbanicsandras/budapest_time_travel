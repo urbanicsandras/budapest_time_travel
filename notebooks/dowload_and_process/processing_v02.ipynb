{
 "cells": [
  {
   "cell_type": "code",
   "execution_count": 2,
   "id": "aa2a2f4e",
   "metadata": {},
   "outputs": [],
   "source": [
    "import os\n",
    "import sys\n",
    "\n",
    "# Set path - adjust according to your new package location\n",
    "project_root = os.path.abspath(os.path.join(\"../..\", \"src\"))\n",
    "if project_root not in sys.path:\n",
    "    sys.path.append(project_root)"
   ]
  },
  {
   "cell_type": "code",
   "execution_count": null,
   "id": "a4e4d0c9",
   "metadata": {},
   "outputs": [],
   "source": [
    "from data_processor import FlexibleDateProcessor\n",
    "processor = FlexibleDateProcessor()\n",
    "\n",
    "# Process a specific month\n",
    "processing_result = processor.process_dates({'start': '20131018', 'end': '20141231'}, progress=\"compact\")"
   ]
  },
  {
   "cell_type": "code",
   "execution_count": null,
   "id": "f964c689",
   "metadata": {},
   "outputs": [],
   "source": []
  },
  {
   "cell_type": "code",
   "execution_count": null,
   "id": "1b6a12a0",
   "metadata": {},
   "outputs": [],
   "source": []
  }
 ],
 "metadata": {
  "kernelspec": {
   "display_name": "budapest_tt",
   "language": "python",
   "name": "python3"
  },
  "language_info": {
   "codemirror_mode": {
    "name": "ipython",
    "version": 3
   },
   "file_extension": ".py",
   "mimetype": "text/x-python",
   "name": "python",
   "nbconvert_exporter": "python",
   "pygments_lexer": "ipython3",
   "version": "3.13.2"
  }
 },
 "nbformat": 4,
 "nbformat_minor": 5
}
